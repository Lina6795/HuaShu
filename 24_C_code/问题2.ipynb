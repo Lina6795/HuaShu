{
 "cells": [
  {
   "cell_type": "markdown",
   "source": [
    "我现在有以下数据想找到我的数据和题目中的关系。同时利用博士论文中的方法实现我的题目\n",
    "我的题目：假如外国游客遵循“城市最佳景点游览原则”，结合城市规模、环境环保、人文底蕴、交通便利，以及气候、美食等因素，请你对352 个城市进行综合评价，选出“最令外国游客向往的50 个城市”。\n",
    "我的数据1：我得到了目标城市的2025年1月到5月的天气数据，其中每个月的天气数据有十天。每个文件包含了日期,最高温度,最低温度,天气,风向。从环境和气候这两个方面对我现在拥有的城市进行评价。\n",
    "我的数据2：我的到了中国统计2024年鉴信息。内容包括如下所示：\n",
    "我的数据3：Annual Air Quality Index (AQI) of 367 Chinese Cities (2014–2024)\n",
    "我的数据4：2024年全国民用运输机场吞吐量排名，具体包含以下内容旅客吞吐量（人）\t\t\t\t货邮吞吐量（吨）\t\t\t\t起降量（架次）\t起降架次\t\t起降架次\n",
    "名次\t本期完成\t上年同期\t比上年同期增减%\t名次\t本期完成\t上年同期\t比上年同期增减%\t名次\t本期完成\t上年同期\t比上年同期增减%\n",
    "\n",
    "1。首先我该如何进行数据的整合\n",
    "2。其次我该如何将我该如何根据论文中的思路和我手机的数据完成题目？先给我思路。"
   ],
   "metadata": {
    "collapsed": false,
    "pycharm": {
     "name": "#%% md\n"
    }
   }
  },
  {
   "cell_type": "markdown",
   "source": [
    "具体流程\n",
    "以下是基于你的数据和PDF中多属性决策分析（MADA）方法的完整解决方案：\n",
    "\n",
    "---\n",
    "\n",
    "### **1. 数据整合与预处理**\n",
    "#### **1.1 数据分类与指标映射**\n",
    "将你的数据与题目中的评价维度关联：\n",
    "| **题目维度**       | **数据来源与指标**                                                                 |\n",
    "|--------------------|----------------------------------------------------------------------------------|\n",
    "| **城市规模**       | 中国统计年鉴：人口密度（PC1）、工业产值（PC2）、农业产值（PC3）等。                  |\n",
    "| **环境环保**       | 空气质量指数（AQI）      |\n",
    "| **交通便利**       | 机场吞吐量（旅客/货邮/起降架次）、地铁/公交密度（需补充数据）、道路网密度（PC4）。     |\n",
    "| **气候**           | 天气数据（最高/最低温度、天气状况、风向），转化为旅游适宜性评分。                      |\n",
    "\n",
    "#### **1.2 数据预处理**\n",
    "- **标准化与归一化**：\n",
    "  - 定量指标（如人口密度、AQI）：采用极差法或Z-score标准化。\n",
    "  - 定性指标（如气候适宜性、美食多样性）：用三角模糊数（TFN）量化（如“优=0.8-1.0, 中=0.5-0.7, 差=0.1-0.4”）。\n",
    "- **数据融合**：将天气数据转化为气候适宜性指数（如温度适中、晴天占比高则得分高）。\n",
    "\n",
    "---\n",
    "\n",
    "### **2. 构建多属性评价指标体系**\n",
    "参考PDF中的FMADM模型，设计层次结构：\n",
    "```\n",
    "目标层：城市综合吸引力（352城市排序）\n",
    "↓\n",
    "准则层：城市规模、环境环保、人文底蕴、交通便利、气候、美食\n",
    "↓\n",
    "指标层：人口密度、AQI、文化遗产数量、机场吞吐量、气候评分等\n",
    "```\n",
    "\n",
    "---\n",
    "\n",
    "### **3. 权重确定（主客观结合）**\n",
    "#### **3.1 主观权重（TFN-AHP）**\n",
    "- **专家打分**：邀请旅游规划、环境科学等领域专家，对各准则和指标的重要性进行两两比较（1-9标度法）。\n",
    "- **模糊判断矩阵**：将专家评分转化为三角模糊数（TFN），如“气候比环境重要”表示为(0.7, 0.8, 0.9)。\n",
    "- **一致性检验**：计算一致性比率（CR<0.1），若不通过则调整判断矩阵。\n",
    "- **权重计算**：通过特征向量法或几何平均法求解模糊权重向量。\n",
    "\n",
    "#### **3.2 客观权重（熵值法）**\n",
    "- **数据驱动**：利用统计年鉴、AQI、机场吞吐量等定量数据，计算各指标的信息熵（E_j）和差异系数（d_j）。\n",
    "- **公式**：\n",
    "  $ w_j = \\frac{d_j}{\\sum_{j=1}^n d_j} $，其中 $ d_j = 1 - E_j $。\n",
    "- **适用场景**：适用于气候适宜性、AQI等波动性较大的指标。\n",
    "\n",
    "#### **3.3 混合权重（离差最大化法）**\n",
    "- **目标**：平衡主观偏好与客观数据，公式：\n",
    "  $ W_{混合} = \\alpha \\cdot W_{主观} + (1-\\alpha) \\cdot W_{客观} $，α根据实际需求调整（如α=0.5）。\n",
    "\n",
    "---\n",
    "\n",
    "### **4. 多属性决策模型（FMADM）**\n",
    "#### **4.1 决策矩阵构建**\n",
    "- **输入**：标准化后的指标值（定量）和模糊评分（定性）。\n",
    "- **输出**：352×m的决策矩阵（m为指标数量）。\n",
    "\n",
    "#### **4.2 基于TOPSIS的综合评价**\n",
    "- **步骤**：\n",
    "  1. **正/负理想解**：取每列最大值为正理想解（最优值），最小值为负理想解。\n",
    "  2. **距离计算**：计算每个城市到正、负理想解的欧氏距离（D+和D-）。\n",
    "  3. **相对接近度**：\n",
    "     $ C_i = \\frac{D_i^-}{D_i^+ + D_i^-} $，C_i越大，城市越优。\n",
    "  4. **排序**：按C_i值从高到低排序，选取前50名。\n",
    "\n",
    "#### **4.3 ANP网络分析法（处理指标依赖关系）**\n",
    "- **适用场景**：若指标间存在相互影响（如“交通便利”提升“人文底蕴”的可达性）。\n",
    "- **步骤**：\n",
    "  1. 构建超矩阵（描述指标间相互影响关系）。\n",
    "  2. 通过极限超矩阵计算全局权重。\n",
    "  3. 结合TOPSIS结果调整排序。\n",
    "\n",
    "---\n",
    "\n",
    "### **5. 模型验证与优化**\n",
    "- **对比分析**：将TOPSIS结果与熵值法、AHP单独排序对比，检验一致性。\n",
    "- **敏感性分析**：调整权重系数（如气候权重±20%），观察排名变化，确保鲁棒性。\n",
    "- **案例验证**：选取已知热门旅游城市（如北京、上海、成都）验证模型合理性。\n",
    "\n",
    "---\n",
    "\n",
    "### **6. 结果输出与可视化**\n",
    "- **输出**：352城市综合得分及排名，前50名城市名单。\n",
    "- **可视化**：\n",
    "  - 雷达图展示各维度得分（如环境、人文、气候）。\n",
    "  - 热力图显示城市地理分布。\n",
    "  - 气候适宜性与AQI的散点图分析。"
   ],
   "metadata": {
    "collapsed": false,
    "pycharm": {
     "name": "#%% md\n"
    }
   }
  },
  {
   "cell_type": "code",
   "execution_count": 95,
   "outputs": [
    {
     "name": "stdout",
     "output_type": "stream",
     "text": [
      "✅ 成功找到 415 个文件，已保存到 中国统计年鉴文档名记录.txt\n"
     ]
    }
   ],
   "source": [
    "import os\n",
    "\n",
    "# 设置要遍历的目录路径（当前目录）\n",
    "directory_path = 'excels'  # 你可以替换为任何路径，如 'C:/my_folder'\n",
    "\n",
    "# 设置输出文件名\n",
    "output_file = '中国统计年鉴文档名记录.txt'\n",
    "\n",
    "# 获取目录下所有文件和文件夹\n",
    "all_items = os.listdir(directory_path)\n",
    "\n",
    "# 过滤出文件（排除子目录）\n",
    "files = [item for item in all_items if os.path.isfile(os.path.join(directory_path, item))]\n",
    "\n",
    "# 将文件名写入 txt 文件\n",
    "with open(output_file, 'w', encoding='utf-8') as f:\n",
    "    for file_name in files:\n",
    "        f.write(file_name + '\\n')\n",
    "\n",
    "print(f\"✅ 成功找到 {len(files)} 个文件，已保存到 {output_file}\")"
   ],
   "metadata": {
    "collapsed": false,
    "pycharm": {
     "name": "#%%\n"
    }
   }
  },
  {
   "cell_type": "markdown",
   "source": [
    "# 人口数据清洗"
   ],
   "metadata": {
    "collapsed": false
   }
  },
  {
   "cell_type": "markdown",
   "source": [
    "我如何整理数据得到关于每个城市的人口密度（PC1）、工业产值（PC2）、农业产值（PC3）整合为一个csv文件。我的数据主要内容为："
   ],
   "metadata": {
    "collapsed": false
   }
  },
  {
   "cell_type": "markdown",
   "source": [
    "首先针对人口规模类指标，使用1-1a 各地区户数、人口数和性别比(城市).csv文件得到各个城市的总人口"
   ],
   "metadata": {
    "collapsed": false
   }
  },
  {
   "cell_type": "code",
   "execution_count": 96,
   "outputs": [
    {
     "name": "stdout",
     "output_type": "stream",
     "text": [
      "     城市      人口数\n",
      "0    北京  1690884\n",
      "1    天津   944867\n",
      "2    河北  2126601\n",
      "3    山西  1250681\n",
      "4   内蒙古   902670\n",
      "6    辽宁  2448098\n",
      "7    吉林   939957\n",
      "8   黑龙江  1344586\n",
      "10   上海  1916434\n",
      "11   江苏  3893982\n",
      "12   浙江  3357273\n",
      "13   安徽  1551833\n",
      "14   福建  1655761\n",
      "15   江西  1341561\n",
      "16   山东  3936819\n",
      "18   河南  2478185\n",
      "19   湖北  2481489\n",
      "20   湖南  1874406\n",
      "21   广东  7438590\n",
      "22   广西  1377109\n",
      "23   海南   336134\n",
      "25   重庆  1647333\n",
      "26   四川  3023299\n",
      "27   贵州   953728\n",
      "28   云南  1179069\n",
      "29   西藏    63892\n",
      "31   陕西  1402903\n",
      "32   甘肃   652969\n",
      "33   青海   198574\n",
      "34   宁夏   286187\n",
      "35   新疆   870130\n"
     ]
    }
   ],
   "source": [
    "import pandas as pd\n",
    "\n",
    "# 读取文件\n",
    "people1 = pd.ExcelFile('/Users/lina/2025/4数模准备/1华数杯/2024年第五届华数杯C/24_C_code/excels/1-1a 各地区户数、人口数和性别比(城市).xls')\n",
    "people_df1 = people1.parse('Sheet1')\n",
    "\n",
    "# 筛选特定行和列\n",
    "people_df1 = people_df1.iloc[9:,[0,4]]\n",
    "people_df1.columns = ['城市','人口数']\n",
    "\n",
    "# 去掉城市名称中的所有空格\n",
    "people_df1['城市'] = people_df1['城市'].str.replace(r'\\s+', '', regex=True)\n",
    "\n",
    "# 重置索引并删除缺失值\n",
    "people_df1 = people_df1.reset_index(drop=True)\n",
    "people_df1 = people_df1.dropna()\n",
    "\n",
    "print(people_df1)"
   ],
   "metadata": {
    "collapsed": false,
    "pycharm": {
     "name": "#%%\n"
    }
   }
  },
  {
   "cell_type": "code",
   "execution_count": 97,
   "outputs": [
    {
     "name": "stdout",
     "output_type": "stream",
     "text": [
      "     城市    外地人登记数\n",
      "0    北京  11286299\n",
      "1    天津   5834438\n",
      "2    河北  10852189\n",
      "3    山西   7413064\n",
      "4   内蒙古   6154293\n",
      "6    辽宁  12651030\n",
      "7    吉林   6258092\n",
      "8   黑龙江   6990445\n",
      "10   上海  12075336\n",
      "11   江苏  19322446\n",
      "12   浙江  19454456\n",
      "13   安徽   9113788\n",
      "14   福建  10206105\n",
      "15   江西   7327320\n",
      "16   山东  18632571\n",
      "18   河南  13054477\n",
      "19   湖北  13425245\n",
      "20   湖南  10384897\n",
      "21   广东  49618272\n",
      "22   广西   8451951\n",
      "23   海南   2330637\n",
      "25   重庆  10053333\n",
      "26   四川  17952455\n",
      "27   贵州   6179364\n",
      "28   云南   7090798\n",
      "29   西藏    564530\n",
      "31   陕西   8617180\n",
      "32   甘肃   4027986\n",
      "33   青海   1217443\n",
      "34   宁夏   1771385\n",
      "35   新疆   5175968\n"
     ]
    }
   ],
   "source": [
    "# 2-外来人口数量\n",
    "people2 = pd.ExcelFile(\"/Users/lina/2025/4数模准备/1华数杯/2024年第五届华数杯C/24_C_code/excels/7-1a 全国按现住地、户口登记地、性别分的户口登记地在外乡镇街道的人口(城市).xls\")\n",
    "people_df2 = people2.parse(\"Sheet1\")\n",
    "people_df2 = people_df2.iloc[9:,:2]\n",
    "people_df2.columns = ['城市','外地人登记数']\n",
    "people_df2['城市'] = people_df2['城市'].str.replace(r'\\s+', '', regex=True)\n",
    "people_df2 = people_df2.reset_index(drop=True)\n",
    "people_df2 = people_df2.dropna()\n",
    "print(people_df2)"
   ],
   "metadata": {
    "collapsed": false,
    "pycharm": {
     "name": "#%%\n"
    }
   }
  },
  {
   "cell_type": "code",
   "execution_count": 98,
   "outputs": [
    {
     "name": "stdout",
     "output_type": "stream",
     "text": [
      "     城市   老年人口数\n",
      "0    北京  344108\n",
      "1    天津  213288\n",
      "2    河北  356967\n",
      "3    山西  187513\n",
      "4   内蒙古  148513\n",
      "6    辽宁  571739\n",
      "7    吉林  200049\n",
      "8   黑龙江  292587\n",
      "10   上海  457907\n",
      "11   江苏  661838\n",
      "12   浙江  466286\n",
      "13   安徽  230548\n",
      "14   福建  199623\n",
      "15   江西  181880\n",
      "16   山东  618713\n",
      "18   河南  353467\n",
      "19   湖北  408224\n",
      "20   湖南  275222\n",
      "21   广东  685043\n",
      "22   广西  171786\n",
      "23   海南   38698\n",
      "25   重庆  268156\n",
      "26   四川  493467\n",
      "27   贵州  114813\n",
      "28   云南  151993\n",
      "29   西藏    5099\n",
      "31   陕西  211563\n",
      "32   甘肃   99219\n",
      "33   青海   26723\n",
      "34   宁夏   36580\n",
      "35   新疆  112973\n"
     ]
    }
   ],
   "source": [
    "# 3-老年人口比例\n",
    "people3 = pd.ExcelFile(\"/Users/lina/2025/4数模准备/1华数杯/2024年第五届华数杯C/24_C_code/excels/8-1a 各地区分性别、健康状况的60岁及以上老年人口(城市).xls\")\n",
    "people_df3 = people3.parse(\"Sheet1\")\n",
    "people_df3 = people_df3.iloc[7:,:2]\n",
    "people_df3.columns = ['城市','老年人口数']\n",
    "people_df3['城市'] = people_df3['城市'].str.replace(r'\\s+', '', regex=True)\n",
    "people_df3 = people_df3.reset_index(drop=True)\n",
    "people_df3 = people_df3.dropna()\n",
    "print(people_df3)"
   ],
   "metadata": {
    "collapsed": false,
    "pycharm": {
     "name": "#%%\n"
    }
   }
  },
  {
   "cell_type": "code",
   "execution_count": 99,
   "outputs": [
    {
     "name": "stdout",
     "output_type": "stream",
     "text": [
      "     城市      人口数    外地人登记数   老年人口数\n",
      "0    北京  1690884  11286299  344108\n",
      "1    天津   944867   5834438  213288\n",
      "2    河北  2126601  10852189  356967\n",
      "3    山西  1250681   7413064  187513\n",
      "4   内蒙古   902670   6154293  148513\n",
      "5    辽宁  2448098  12651030  571739\n",
      "6    吉林   939957   6258092  200049\n",
      "7   黑龙江  1344586   6990445  292587\n",
      "8    上海  1916434  12075336  457907\n",
      "9    江苏  3893982  19322446  661838\n",
      "10   浙江  3357273  19454456  466286\n",
      "11   安徽  1551833   9113788  230548\n",
      "12   福建  1655761  10206105  199623\n",
      "13   江西  1341561   7327320  181880\n",
      "14   山东  3936819  18632571  618713\n",
      "15   河南  2478185  13054477  353467\n",
      "16   湖北  2481489  13425245  408224\n",
      "17   湖南  1874406  10384897  275222\n",
      "18   广东  7438590  49618272  685043\n",
      "19   广西  1377109   8451951  171786\n",
      "20   海南   336134   2330637   38698\n",
      "21   重庆  1647333  10053333  268156\n",
      "22   四川  3023299  17952455  493467\n",
      "23   贵州   953728   6179364  114813\n",
      "24   云南  1179069   7090798  151993\n",
      "25   西藏    63892    564530    5099\n",
      "26   陕西  1402903   8617180  211563\n",
      "27   甘肃   652969   4027986   99219\n",
      "28   青海   198574   1217443   26723\n",
      "29   宁夏   286187   1771385   36580\n",
      "30   新疆   870130   5175968  112973\n"
     ]
    }
   ],
   "source": [
    "# 将三个表进行\n",
    "population =  pd.merge(people_df1,people_df2,on=\"城市\",how='outer')\n",
    "population = pd.merge(population, people_df3, on='城市', how='outer')\n",
    "print(population)"
   ],
   "metadata": {
    "collapsed": false,
    "pycharm": {
     "name": "#%%\n"
    }
   }
  },
  {
   "cell_type": "markdown",
   "source": [
    "# 天气数据处理"
   ],
   "metadata": {
    "collapsed": false
   }
  },
  {
   "cell_type": "markdown",
   "source": [
    "我得到了目标城市的2025年1月到5月的天气数据，其中每个月的天气数据有十天。每个文件包含了日期,最高温度,最低温度,天气,风向。将其进行整合到一个DataFrame中.我这是很多城市，九十多个城市的数据，将这所有的都整合在一起，最好就是整合得到的一个表第一列是九十多个城市，然后其余每一列是所有月份温度的平均值，天气的众数，风向的众数."
   ],
   "metadata": {
    "collapsed": false,
    "pycharm": {
     "name": "#%% md\n"
    }
   }
  },
  {
   "cell_type": "code",
   "execution_count": 100,
   "outputs": [
    {
     "name": "stdout",
     "output_type": "stream",
     "text": [
      "    城市  202504_avg_high  202504_avg_low 202504_weather 202504_wind  \\\n",
      "0  吐鲁番             26.3            14.8             多云      东北风 3级   \n",
      "1   保山              NaN             NaN           None        None   \n",
      "2   塔城              NaN             NaN           None        None   \n",
      "3   天水             22.0             8.9             多云       北风 3级   \n",
      "4   佛山             27.7            20.2             多云       南风 3级   \n",
      "\n",
      "   202505_avg_high  202505_avg_low 202505_weather 202505_wind  \\\n",
      "0             33.6            22.7             多云      西北风 4级   \n",
      "1              NaN             NaN           None        None   \n",
      "2              NaN             NaN           None        None   \n",
      "3             25.5            10.1             多云       北风 5级   \n",
      "4             31.6            25.2             小雨      东南风 4级   \n",
      "\n",
      "   202502_avg_high  ...  202502_weather 202502_wind 202503_avg_high  \\\n",
      "0              4.2  ...               晴       南风 2级            14.6   \n",
      "1              NaN  ...            None        None             NaN   \n",
      "2              NaN  ...            None        None             NaN   \n",
      "3              2.9  ...              多云       北风 3级            10.8   \n",
      "4             19.2  ...              多云       北风 4级            23.2   \n",
      "\n",
      "   202503_avg_low  202503_weather 202503_wind 202501_avg_high  202501_avg_low  \\\n",
      "0             5.3              多云       东风 3级             0.2           -10.1   \n",
      "1             NaN            None        None             NaN             NaN   \n",
      "2             NaN            None        None             NaN             NaN   \n",
      "3             2.4              多云      东北风 2级             6.6            -5.4   \n",
      "4            17.0              多云       北风 4级            21.3            12.7   \n",
      "\n",
      "   202501_weather 202501_wind  \n",
      "0            中度雾霾      东北风 2级  \n",
      "1            None        None  \n",
      "2            None        None  \n",
      "3               晴      东北风 2级  \n",
      "4               晴       北风 2级  \n",
      "\n",
      "[5 rows x 21 columns]\n"
     ]
    }
   ],
   "source": [
    "import os\n",
    "import pandas as pd\n",
    "from collections import defaultdict\n",
    "\n",
    "# 设置数据文件夹路径\n",
    "data_folder = \"data\"  # 替换为你存放所有天气数据的文件夹路径\n",
    "\n",
    "# 存储最终结果\n",
    "city_monthly_summary = defaultdict(dict)\n",
    "\n",
    "# 遍历所有文件\n",
    "for filename in os.listdir(data_folder):\n",
    "    if filename.endswith(\".csv\"):\n",
    "        # 解析城市名和年月\n",
    "        city_year_month = filename.split(\".\")[0]  # 去掉 .csv 后缀\n",
    "        city, ym = city_year_month.rsplit(\"_\", 1)\n",
    "\n",
    "        # 读取数据\n",
    "        file_path = os.path.join(data_folder, filename)\n",
    "        df = pd.read_csv(file_path, encoding='utf-8')\n",
    "\n",
    "        # 清洗温度数据（去掉 ℃）\n",
    "        df['最高温度'] = df['最高温度'].str.replace('℃', '').astype(int)\n",
    "        df['最低温度'] = df['最低温度'].str.replace('℃', '').astype(int)\n",
    "\n",
    "        # 计算平均最高温和平均最低温\n",
    "        avg_high = df['最高温度'].mean()\n",
    "        avg_low = df['最低温度'].mean()\n",
    "\n",
    "        # 获取天气和风向的众数\n",
    "        weather_mode = df['天气'].mode()[0] if not df['天气'].mode().empty else None\n",
    "        wind_mode = df['风向'].mode()[0] if not df['风向'].mode().empty else None\n",
    "\n",
    "        # 存入汇总字典\n",
    "        city_monthly_summary[city][f\"{ym}_avg_high\"] = avg_high\n",
    "        city_monthly_summary[city][f\"{ym}_avg_low\"] = avg_low\n",
    "        city_monthly_summary[city][f\"{ym}_weather\"] = weather_mode\n",
    "        city_monthly_summary[city][f\"{ym}_wind\"] = wind_mode\n",
    "\n",
    "# 转换成 DataFrame\n",
    "result_df = pd.DataFrame.from_dict(city_monthly_summary, orient='index')\n",
    "\n",
    "# 重置索引，将城市名作为一列\n",
    "result_df.reset_index(inplace=True)\n",
    "result_df.rename(columns={'index': '城市'}, inplace=True)\n",
    "\n",
    "# 输出结果\n",
    "weather = result_df\n",
    "print(weather.head())\n",
    "\n",
    "# 保存到 CSV 或 Excel\n",
    "# result_df.to_csv(\"city_weather_summary.csv\", index=False, encoding='utf-8-sig')"
   ],
   "metadata": {
    "collapsed": false,
    "pycharm": {
     "name": "#%%\n"
    }
   }
  },
  {
   "cell_type": "markdown",
   "source": [
    "# 空气质量数据处理"
   ],
   "metadata": {
    "collapsed": false,
    "pycharm": {
     "name": "#%% md\n"
    }
   }
  },
  {
   "cell_type": "markdown",
   "source": [
    "读取该文件的所有行，第一列和第十一列。针对第一列中不是\"市\"结尾的行删除，另外如果是\"市\"结尾的只保留除了市以外的作为行。例如如果第一列中有一个北京市，那么需要保留，北京作为这行的名称。使用python实现"
   ],
   "metadata": {
    "collapsed": false,
    "pycharm": {
     "name": "#%% md\n"
    }
   }
  },
  {
   "cell_type": "code",
   "execution_count": 101,
   "outputs": [
    {
     "name": "stdout",
     "output_type": "stream",
     "text": [
      "      城市          AQI\n",
      "0      城  2023.000000\n",
      "1     安康    60.778082\n",
      "2     安庆    73.939726\n",
      "3     安顺    50.728767\n",
      "4     安阳   105.794521\n",
      "..   ...          ...\n",
      "322  驻马店    86.394521\n",
      "323   资阳    73.934247\n",
      "324   淄博    98.871233\n",
      "325   自贡    78.460274\n",
      "326   遵义    51.386301\n",
      "\n",
      "[327 rows x 2 columns]\n"
     ]
    },
    {
     "name": "stderr",
     "output_type": "stream",
     "text": [
      "/Users/lina/miniforge3/lib/python3.9/site-packages/openpyxl/worksheet/_reader.py:312: UserWarning: Sparkline Group extension is not supported and will be removed\n",
      "  warn(msg)\n",
      "/var/folders/d8/q9g1knvd76d5fzgzlrdbnj4h0000gn/T/ipykernel_2000/1724623823.py:22: SettingWithCopyWarning: \n",
      "A value is trying to be set on a copy of a slice from a DataFrame.\n",
      "Try using .loc[row_indexer,col_indexer] = value instead\n",
      "\n",
      "See the caveats in the documentation: https://pandas.pydata.org/pandas-docs/stable/user_guide/indexing.html#returning-a-view-versus-a-copy\n",
      "  air_df['processed_city'] = air_df.iloc[:, 0].apply(process_city_name)\n"
     ]
    }
   ],
   "source": [
    "import pandas as pd\n",
    "\n",
    "# 读取 Excel 文件\n",
    "file_path = '中国367个城市2014-2024年空气质量指数AQI数据集.xlsx'\n",
    "air = pd.ExcelFile(file_path)\n",
    "\n",
    "# 读取第一个 sheet 的数据（假设目标数据在第一个 sheet）\n",
    "with air as xls:\n",
    "    df = pd.read_excel(xls, header=None)  # 如果没有列标题，设置 header=None\n",
    "\n",
    "# 提取第一列和第十一列\n",
    "air_df = df.iloc[:, [0, 10]]  # 注意：列索引从0开始，第十一列是索引10\n",
    "\n",
    "# 对第一列进行筛选和处理\n",
    "def process_city_name(name):\n",
    "    if isinstance(name, str) and name.endswith('市'):\n",
    "        return name[:-1]  # 去除“市”字\n",
    "    else:\n",
    "        return None  # 标记为需要删除的行\n",
    "\n",
    "# 应用处理函数\n",
    "air_df['processed_city'] = air_df.iloc[:, 0].apply(process_city_name)\n",
    "\n",
    "# 删除不符合条件的行（即 processed_city 为 None 的行）\n",
    "filtered_df = air_df.dropna(subset=['processed_city']).reset_index(drop=True)\n",
    "\n",
    "# 可选：重命名列并保存结果\n",
    "filtered_df.rename(columns={filtered_df.columns[0]: '原始城市名', filtered_df.columns[1]: 'AQI', 'processed_city': '城市'}, inplace=True)\n",
    "\n",
    "# 输出结果或保存到新文件\n",
    "air = filtered_df[['城市', 'AQI']]\n",
    "print(air)\n",
    "# filtered_df[['城市名', 'AQI']].to_excel('处理后的空气质量数据.xlsx', index=False)"
   ],
   "metadata": {
    "collapsed": false,
    "pycharm": {
     "name": "#%%\n"
    }
   }
  },
  {
   "cell_type": "markdown",
   "source": [
    "# 机场吞吐量"
   ],
   "metadata": {
    "collapsed": false,
    "pycharm": {
     "name": "#%% md\n"
    }
   }
  },
  {
   "cell_type": "markdown",
   "source": [
    "我现在有一个文件为2024年全国民用运输机场吞吐量排名.xlsx，需要得到第六行及以下，和第C、G、K列的数据的数据，将DataFrame的列重新命名为城市、旅客吞吐量、货邮吞吐量、起降量。另外第一列中是城市/机场这样的方式命名的，我现在只需要城市，使用python进行实现。"
   ],
   "metadata": {
    "collapsed": false,
    "pycharm": {
     "name": "#%% md\n"
    }
   }
  },
  {
   "cell_type": "code",
   "execution_count": 102,
   "outputs": [
    {
     "name": "stdout",
     "output_type": "stream",
     "text": [
      "      城市  旅客吞吐量（人）     货邮吞吐量（吨） 起降量（架次）\n",
      "0     上海  76787039  3778331.004  528074\n",
      "1     广州  76364767  2381901.057  511972\n",
      "2     北京  67367428  1443285.616  433572\n",
      "3     深圳  61477337  1881468.409  428231\n",
      "4     成都  54905784   384923.094  378798\n",
      "..   ...       ...          ...     ...\n",
      "258   山南      1960        0.017      46\n",
      "259   和静       382          NaN      88\n",
      "260  绥芬河       110          NaN       2\n",
      "261   阿里        80          NaN       2\n",
      "262  黔东南       NaN          NaN   26921\n",
      "\n",
      "[263 rows x 4 columns]\n"
     ]
    }
   ],
   "source": [
    "import pandas as pd\n",
    "\n",
    "# 读取Excel文件\n",
    "file_path = '2024年全国民用运输机场吞吐量排名.xlsx'\n",
    "df = pd.read_excel(file_path)\n",
    "\n",
    "# 筛选出第六行及以下的数据\n",
    "df = df.iloc[4:]\n",
    "\n",
    "# 选择第C、G、K列的数据（即索引为2, 6, 10的列）\n",
    "selected_columns = df.iloc[:, [0, 2, 6, 10]]\n",
    "selected_columns = selected_columns.reset_index(drop=True)\n",
    "\n",
    "# 给DataFrame的列重新命名\n",
    "selected_columns.columns = ['城市/机场', '旅客吞吐量（人）', '货邮吞吐量（吨）', '起降量（架次）']\n",
    "\n",
    "# 提取城市名，去掉\"城市/机场\"中的\"/机场\"\n",
    "selected_columns['城市'] = selected_columns['城市/机场'].apply(lambda x: x.split('/')[0])\n",
    "# 删除原来的'城市/机场'列\n",
    "selected_columns.drop(columns=['城市/机场'], inplace=True)\n",
    "\n",
    "# 重排列顺序，将城市放在第一列\n",
    "selected_columns = selected_columns[['城市', '旅客吞吐量（人）', '货邮吞吐量（吨）', '起降量（架次）']]\n",
    "\n",
    "traffic = selected_columns\n",
    "# 输出结果或保存到新文件\n",
    "print(traffic)\n",
    "# 如果需要保存处理后的数据到新的Excel文件中\n",
    "# selected_columns.to_excel('处理后的2024年全国民用运输机场吞吐量排名.xlsx', index=False)"
   ],
   "metadata": {
    "collapsed": false,
    "pycharm": {
     "name": "#%%\n"
    }
   }
  },
  {
   "cell_type": "code",
   "execution_count": 103,
   "outputs": [
    {
     "name": "stdout",
     "output_type": "stream",
     "text": [
      "        城市      人口数    外地人登记数   老年人口数        AQI  202504_avg_high  \\\n",
      "0       北京  1690884  11286299  344108  82.252055             22.7   \n",
      "1       天津   944867   5834438  213288  95.816438              NaN   \n",
      "2       河北  2126601  10852189  356967        NaN              NaN   \n",
      "3       山西  1250681   7413064  187513        NaN              NaN   \n",
      "4      内蒙古   902670   6154293  148513        NaN              NaN   \n",
      "..     ...      ...       ...     ...        ...              ...   \n",
      "439   额济纳旗      NaN       NaN     NaN        NaN              NaN   \n",
      "440  阿拉善右旗      NaN       NaN     NaN        NaN              NaN   \n",
      "441     和静      NaN       NaN     NaN        NaN              NaN   \n",
      "442    绥芬河      NaN       NaN     NaN        NaN              NaN   \n",
      "443    黔东南      NaN       NaN     NaN        NaN              NaN   \n",
      "\n",
      "     202504_avg_low 202504_weather 202504_wind  202505_avg_high  ...  \\\n",
      "0              11.1             多云       南风 3级             24.7  ...   \n",
      "1               NaN            NaN         NaN              NaN  ...   \n",
      "2               NaN            NaN         NaN              NaN  ...   \n",
      "3               NaN            NaN         NaN              NaN  ...   \n",
      "4               NaN            NaN         NaN              NaN  ...   \n",
      "..              ...            ...         ...              ...  ...   \n",
      "439             NaN            NaN         NaN              NaN  ...   \n",
      "440             NaN            NaN         NaN              NaN  ...   \n",
      "441             NaN            NaN         NaN              NaN  ...   \n",
      "442             NaN            NaN         NaN              NaN  ...   \n",
      "443             NaN            NaN         NaN              NaN  ...   \n",
      "\n",
      "     202503_avg_low 202503_weather 202503_wind  202501_avg_high  \\\n",
      "0               NaN           None        None              NaN   \n",
      "1               NaN            NaN         NaN              NaN   \n",
      "2               NaN            NaN         NaN              NaN   \n",
      "3               NaN            NaN         NaN              NaN   \n",
      "4               NaN            NaN         NaN              NaN   \n",
      "..              ...            ...         ...              ...   \n",
      "439             NaN            NaN         NaN              NaN   \n",
      "440             NaN            NaN         NaN              NaN   \n",
      "441             NaN            NaN         NaN              NaN   \n",
      "442             NaN            NaN         NaN              NaN   \n",
      "443             NaN            NaN         NaN              NaN   \n",
      "\n",
      "     202501_avg_low 202501_weather 202501_wind  旅客吞吐量（人）     货邮吞吐量（吨） 起降量（架次）  \n",
      "0               NaN           None        None  67367428  1443285.616  433572  \n",
      "1               NaN            NaN         NaN  20063745   137322.198  148889  \n",
      "2               NaN            NaN         NaN       NaN          NaN     NaN  \n",
      "3               NaN            NaN         NaN       NaN          NaN     NaN  \n",
      "4               NaN            NaN         NaN       NaN          NaN     NaN  \n",
      "..              ...            ...         ...       ...          ...     ...  \n",
      "439             NaN            NaN         NaN      3774          NaN     606  \n",
      "440             NaN            NaN         NaN      2943          NaN     722  \n",
      "441             NaN            NaN         NaN       382          NaN      88  \n",
      "442             NaN            NaN         NaN       110          NaN       2  \n",
      "443             NaN            NaN         NaN       NaN          NaN   26921  \n",
      "\n",
      "[444 rows x 28 columns]\n"
     ]
    }
   ],
   "source": [
    "# 去重（保留第一条）\n",
    "population = population.drop_duplicates(subset=['城市'])\n",
    "air = air.drop_duplicates(subset=['城市'])\n",
    "weather = weather.drop_duplicates(subset=['城市'])\n",
    "traffic = traffic.drop_duplicates(subset=['城市'])\n",
    "\n",
    "# 然后合并\n",
    "result = pd.merge(population, air, on='城市', how='outer')\n",
    "result = pd.merge(result, weather, on='城市', how='outer')\n",
    "result = pd.merge(result, traffic, on='城市', how='outer')\n",
    "print(result)"
   ],
   "metadata": {
    "collapsed": false,
    "pycharm": {
     "name": "#%%\n"
    }
   }
  },
  {
   "cell_type": "code",
   "execution_count": 104,
   "outputs": [],
   "source": [
    "result.to_excel('问题2结果数据2.xlsx')"
   ],
   "metadata": {
    "collapsed": false,
    "pycharm": {
     "name": "#%%\n"
    }
   }
  },
  {
   "cell_type": "code",
   "execution_count": 104,
   "outputs": [],
   "source": [],
   "metadata": {
    "collapsed": false,
    "pycharm": {
     "name": "#%%\n"
    }
   }
  }
 ],
 "metadata": {
  "kernelspec": {
   "display_name": "Python 3",
   "language": "python",
   "name": "python3"
  },
  "language_info": {
   "codemirror_mode": {
    "name": "ipython",
    "version": 2
   },
   "file_extension": ".py",
   "mimetype": "text/x-python",
   "name": "python",
   "nbconvert_exporter": "python",
   "pygments_lexer": "ipython2",
   "version": "2.7.6"
  }
 },
 "nbformat": 4,
 "nbformat_minor": 0
}