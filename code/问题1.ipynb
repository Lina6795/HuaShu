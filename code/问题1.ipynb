{
 "cells": [
  {
   "cell_type": "code",
   "execution_count": 4,
   "metadata": {
    "collapsed": true
   },
   "outputs": [
    {
     "data": {
      "text/plain": "                                            名字  \\\n0     六盘山国家森林公园Liupanshan National Forest Park   \n1                               野荷谷Yehe Valley   \n2                                         璎珞宝塔   \n3                                老龙潭Laolongtan   \n4                    无量山石窟Wuliangshan Grottoes   \n...                                        ...   \n8677                                      名家画廊   \n8678                         民俗博物馆Minsu Museum   \n8679                               金童年幼儿园(福安街)   \n8680        伊通火山博物馆Jilin Yitong Volcano Museum   \n8681                  郑家屯博物馆Zhengjiatun Museum   \n\n                                                     链接  \\\n0     http://travel.qunar.com/p-oi706032-liupanshang...   \n1             http://travel.qunar.com/p-oi706669-yehegu   \n2       http://travel.qunar.com/p-oi711639-yingluobaota   \n3         http://travel.qunar.com/p-oi703092-laolongtan   \n4     http://travel.qunar.com/p-oi714322-wuliangshan...   \n...                                                 ...   \n8677  http://travel.qunar.com/p-oi19508526-mingjiahu...   \n8678  http://travel.qunar.com/p-oi19508074-minsubowu...   \n8679  http://travel.qunar.com/p-oi19505952-jintongni...   \n8680  http://travel.qunar.com/p-oi19475898-yitonghuo...   \n8681  http://travel.qunar.com/p-oi19471159-zhengjiat...   \n\n                                                     地址  \\\n0     \\n\\n地址:\\n固原市泾源县泾河源镇六盘山\\n\\n\\n电话:\\n0954-5648319\\n\\n   \n1      \\n\\n地址:\\n固原市泾源县城西8公里处\\n\\n\\n电话:\\n0954-5648319\\n\\n   \n2                                                   NaN   \n3     \\n\\n地址:\\n固原市泾源县境内\\n\\n\\n电话:\\n0954-5013660\\n\\n\\n...   \n4                                                   NaN   \n...                                                 ...   \n8677                                                NaN   \n8678                                                NaN   \n8679                                                NaN   \n8680                                                NaN   \n8681      \\n\\n地址:\\n辽河大街1799号\\n\\n\\n电话:\\n0434-7223176\\n\\n   \n\n                                                     介绍  \\\n0     六盘山国家森林公园，位于固原市泾源县泾河源镇境内，六盘山是中原农耕文化和北方游牧文化的结合部...   \n1     野荷谷位于泾源县城西北5千米处，是泾河的另外一个源头，峡长15千米，又叫香水峡。因峡内长满“...   \n2     璎珞宝塔位于彭阳县城东北60公里的冯庄乡小湾村，塔通高15米，平面呈八形，为七层楼阁式砖塔。...   \n3     老龙潭有四个潭组成，现水库大坝下游为一、二潭，是一段深峡危崖急流深潭，神奇莫测。三潭现被水库...   \n4     无量山石窟位于彭阳县城西北25公里的川口乡田庄村，背靠无量山，面向石峡河，傍山依水，风景秀丽...   \n...                                                 ...   \n8677                                                NaN   \n8678                                                NaN   \n8679                                                NaN   \n8680                                                NaN   \n8681  郑家屯博物馆是吉林省第一家县级博物馆，原为奉系军阀吴俊升私宅，民间俗称“大帅府”，吉林省重点...   \n\n                                      开放时间  \\\n0                    4/1-10/31 08:00-18:00   \n1                    4/1-10/31 08:00-18:00   \n2                                      NaN   \n3     8:00-19:00；10月20日-次年4月10防火封山，暂时接待游客。   \n4                                      NaN   \n...                                    ...   \n8677                                   NaN   \n8678                                   NaN   \n8679                                   NaN   \n8680                                   NaN   \n8681                  全年 周二-周日 09:00-17:00   \n\n                                                   图片链接   评分  \\\n0     https://img1.qunarzz.com/piao/fusion/2110/e4/d...  4.3   \n1     https://img1.qunarzz.com/piao/fusion/1808/56/e...  4.3   \n2                                                   NaN  NaN   \n3     https://img1.qunarzz.com/piao/fusion/1706/88/d...  4.2   \n4     https://img1.qunarzz.com/travel/poi/1803/37/ed...  5.0   \n...                                                 ...  ...   \n8677                                                NaN  NaN   \n8678                                                NaN  NaN   \n8679                                                NaN  NaN   \n8680                                                NaN  4.0   \n8681  https://tr-osdcp.qunarzz.com/tr-osd-tr-manager...  4.3   \n\n                建议游玩时间 建议季节  \\\n0     建议游览时间：3小时 - 4小时  NaN   \n1     建议游览时间：12小时 - 3天  NaN   \n2                  NaN  NaN   \n3           建议游览时间：1小时  NaN   \n4           建议游览时间：1小时  NaN   \n...                ...  ...   \n8677               NaN  NaN   \n8678               NaN  NaN   \n8679               NaN  NaN   \n8680               NaN  NaN   \n8681        建议游览时间：2小时  NaN   \n\n                                                     门票  小贴士  Page  城市  \n0     {'六盘山国家森林公园门票+景区内摆渡车票学生票\\n\\n': ['¥65起'], '六盘山国...  NaN     1  固原  \n1                                                   40元  NaN     1  固原  \n2                                                   NaN  NaN     1  固原  \n3                                                   45元  NaN     1  固原  \n4                                         具体收费情况以现场公示为主  NaN     1  固原  \n...                                                 ...  ...   ...  ..  \n8677                                                NaN  NaN    10  四平  \n8678                                                NaN  NaN    10  四平  \n8679                                                NaN  NaN    10  四平  \n8680                                      具体收费情况以现场公示为主  NaN    10  四平  \n8681                                      具体收费情况以现场公示为主  NaN    10  四平  \n\n[8682 rows x 13 columns]",
      "text/html": "<div>\n<style scoped>\n    .dataframe tbody tr th:only-of-type {\n        vertical-align: middle;\n    }\n\n    .dataframe tbody tr th {\n        vertical-align: top;\n    }\n\n    .dataframe thead th {\n        text-align: right;\n    }\n</style>\n<table border=\"1\" class=\"dataframe\">\n  <thead>\n    <tr style=\"text-align: right;\">\n      <th></th>\n      <th>名字</th>\n      <th>链接</th>\n      <th>地址</th>\n      <th>介绍</th>\n      <th>开放时间</th>\n      <th>图片链接</th>\n      <th>评分</th>\n      <th>建议游玩时间</th>\n      <th>建议季节</th>\n      <th>门票</th>\n      <th>小贴士</th>\n      <th>Page</th>\n      <th>城市</th>\n    </tr>\n  </thead>\n  <tbody>\n    <tr>\n      <th>0</th>\n      <td>六盘山国家森林公园Liupanshan National Forest Park</td>\n      <td>http://travel.qunar.com/p-oi706032-liupanshang...</td>\n      <td>\\n\\n地址:\\n固原市泾源县泾河源镇六盘山\\n\\n\\n电话:\\n0954-5648319\\n\\n</td>\n      <td>六盘山国家森林公园，位于固原市泾源县泾河源镇境内，六盘山是中原农耕文化和北方游牧文化的结合部...</td>\n      <td>4/1-10/31 08:00-18:00</td>\n      <td>https://img1.qunarzz.com/piao/fusion/2110/e4/d...</td>\n      <td>4.3</td>\n      <td>建议游览时间：3小时 - 4小时</td>\n      <td>NaN</td>\n      <td>{'六盘山国家森林公园门票+景区内摆渡车票学生票\\n\\n': ['¥65起'], '六盘山国...</td>\n      <td>NaN</td>\n      <td>1</td>\n      <td>固原</td>\n    </tr>\n    <tr>\n      <th>1</th>\n      <td>野荷谷Yehe Valley</td>\n      <td>http://travel.qunar.com/p-oi706669-yehegu</td>\n      <td>\\n\\n地址:\\n固原市泾源县城西8公里处\\n\\n\\n电话:\\n0954-5648319\\n\\n</td>\n      <td>野荷谷位于泾源县城西北5千米处，是泾河的另外一个源头，峡长15千米，又叫香水峡。因峡内长满“...</td>\n      <td>4/1-10/31 08:00-18:00</td>\n      <td>https://img1.qunarzz.com/piao/fusion/1808/56/e...</td>\n      <td>4.3</td>\n      <td>建议游览时间：12小时 - 3天</td>\n      <td>NaN</td>\n      <td>40元</td>\n      <td>NaN</td>\n      <td>1</td>\n      <td>固原</td>\n    </tr>\n    <tr>\n      <th>2</th>\n      <td>璎珞宝塔</td>\n      <td>http://travel.qunar.com/p-oi711639-yingluobaota</td>\n      <td>NaN</td>\n      <td>璎珞宝塔位于彭阳县城东北60公里的冯庄乡小湾村，塔通高15米，平面呈八形，为七层楼阁式砖塔。...</td>\n      <td>NaN</td>\n      <td>NaN</td>\n      <td>NaN</td>\n      <td>NaN</td>\n      <td>NaN</td>\n      <td>NaN</td>\n      <td>NaN</td>\n      <td>1</td>\n      <td>固原</td>\n    </tr>\n    <tr>\n      <th>3</th>\n      <td>老龙潭Laolongtan</td>\n      <td>http://travel.qunar.com/p-oi703092-laolongtan</td>\n      <td>\\n\\n地址:\\n固原市泾源县境内\\n\\n\\n电话:\\n0954-5013660\\n\\n\\n...</td>\n      <td>老龙潭有四个潭组成，现水库大坝下游为一、二潭，是一段深峡危崖急流深潭，神奇莫测。三潭现被水库...</td>\n      <td>8:00-19:00；10月20日-次年4月10防火封山，暂时接待游客。</td>\n      <td>https://img1.qunarzz.com/piao/fusion/1706/88/d...</td>\n      <td>4.2</td>\n      <td>建议游览时间：1小时</td>\n      <td>NaN</td>\n      <td>45元</td>\n      <td>NaN</td>\n      <td>1</td>\n      <td>固原</td>\n    </tr>\n    <tr>\n      <th>4</th>\n      <td>无量山石窟Wuliangshan Grottoes</td>\n      <td>http://travel.qunar.com/p-oi714322-wuliangshan...</td>\n      <td>NaN</td>\n      <td>无量山石窟位于彭阳县城西北25公里的川口乡田庄村，背靠无量山，面向石峡河，傍山依水，风景秀丽...</td>\n      <td>NaN</td>\n      <td>https://img1.qunarzz.com/travel/poi/1803/37/ed...</td>\n      <td>5.0</td>\n      <td>建议游览时间：1小时</td>\n      <td>NaN</td>\n      <td>具体收费情况以现场公示为主</td>\n      <td>NaN</td>\n      <td>1</td>\n      <td>固原</td>\n    </tr>\n    <tr>\n      <th>...</th>\n      <td>...</td>\n      <td>...</td>\n      <td>...</td>\n      <td>...</td>\n      <td>...</td>\n      <td>...</td>\n      <td>...</td>\n      <td>...</td>\n      <td>...</td>\n      <td>...</td>\n      <td>...</td>\n      <td>...</td>\n      <td>...</td>\n    </tr>\n    <tr>\n      <th>8677</th>\n      <td>名家画廊</td>\n      <td>http://travel.qunar.com/p-oi19508526-mingjiahu...</td>\n      <td>NaN</td>\n      <td>NaN</td>\n      <td>NaN</td>\n      <td>NaN</td>\n      <td>NaN</td>\n      <td>NaN</td>\n      <td>NaN</td>\n      <td>NaN</td>\n      <td>NaN</td>\n      <td>10</td>\n      <td>四平</td>\n    </tr>\n    <tr>\n      <th>8678</th>\n      <td>民俗博物馆Minsu Museum</td>\n      <td>http://travel.qunar.com/p-oi19508074-minsubowu...</td>\n      <td>NaN</td>\n      <td>NaN</td>\n      <td>NaN</td>\n      <td>NaN</td>\n      <td>NaN</td>\n      <td>NaN</td>\n      <td>NaN</td>\n      <td>NaN</td>\n      <td>NaN</td>\n      <td>10</td>\n      <td>四平</td>\n    </tr>\n    <tr>\n      <th>8679</th>\n      <td>金童年幼儿园(福安街)</td>\n      <td>http://travel.qunar.com/p-oi19505952-jintongni...</td>\n      <td>NaN</td>\n      <td>NaN</td>\n      <td>NaN</td>\n      <td>NaN</td>\n      <td>NaN</td>\n      <td>NaN</td>\n      <td>NaN</td>\n      <td>NaN</td>\n      <td>NaN</td>\n      <td>10</td>\n      <td>四平</td>\n    </tr>\n    <tr>\n      <th>8680</th>\n      <td>伊通火山博物馆Jilin Yitong Volcano Museum</td>\n      <td>http://travel.qunar.com/p-oi19475898-yitonghuo...</td>\n      <td>NaN</td>\n      <td>NaN</td>\n      <td>NaN</td>\n      <td>NaN</td>\n      <td>4.0</td>\n      <td>NaN</td>\n      <td>NaN</td>\n      <td>具体收费情况以现场公示为主</td>\n      <td>NaN</td>\n      <td>10</td>\n      <td>四平</td>\n    </tr>\n    <tr>\n      <th>8681</th>\n      <td>郑家屯博物馆Zhengjiatun Museum</td>\n      <td>http://travel.qunar.com/p-oi19471159-zhengjiat...</td>\n      <td>\\n\\n地址:\\n辽河大街1799号\\n\\n\\n电话:\\n0434-7223176\\n\\n</td>\n      <td>郑家屯博物馆是吉林省第一家县级博物馆，原为奉系军阀吴俊升私宅，民间俗称“大帅府”，吉林省重点...</td>\n      <td>全年 周二-周日 09:00-17:00</td>\n      <td>https://tr-osdcp.qunarzz.com/tr-osd-tr-manager...</td>\n      <td>4.3</td>\n      <td>建议游览时间：2小时</td>\n      <td>NaN</td>\n      <td>具体收费情况以现场公示为主</td>\n      <td>NaN</td>\n      <td>10</td>\n      <td>四平</td>\n    </tr>\n  </tbody>\n</table>\n<p>8682 rows × 13 columns</p>\n</div>"
     },
     "execution_count": 4,
     "metadata": {},
     "output_type": "execute_result"
    }
   ],
   "source": [
    "import os\n",
    "import pandas as pd\n",
    "\n",
    "# 定义数据文件夹路径\n",
    "folder_path = '/Users/lina/2025/4数模准备/1华数杯/2024年第五届华数杯C/附件'\n",
    "# 初始化一个空的数据框\n",
    "all_data = pd.DataFrame()\n",
    "# 遍历文件夹中的所有CSV文件并加载数据\n",
    "for file_name in os.listdir(folder_path):\n",
    "    if file_name.endswith('.csv'):\n",
    "        file_path = os.path.join(folder_path, file_name)\n",
    "\n",
    "        # 提取城市名称（去掉文件扩展名）\n",
    "        city_name = os.path.splitext(file_name)[0]\n",
    "\n",
    "        # 读取CSV文件\n",
    "        city_data = pd.read_csv(file_path)\n",
    "\n",
    "        # 为数据框添加城市列\n",
    "        city_data['城市'] = city_name\n",
    "\n",
    "        # 确保 '景点评分' 列为浮点数类型\n",
    "        city_data['评分'] = pd.to_numeric(city_data['评分'], errors='coerce')\n",
    "\n",
    "        # 合并到总数据框中\n",
    "        all_data = pd.concat([all_data, city_data], ignore_index=True)\n",
    "all_data"
   ]
  },
  {
   "cell_type": "code",
   "execution_count": 5,
   "outputs": [
    {
     "name": "stdout",
     "output_type": "stream",
     "text": [
      "最高评分（BS）：5.0\n",
      "获得最高评分（BS）的景点总数：714\n",
      "获得最高评分（BS）景点最多的前10个城市：\n",
      "      城市  景点数量\n",
      "4     三沙    36\n",
      "25   五家渠    28\n",
      "84  大兴安岭    18\n",
      "33    保亭    16\n",
      "66    周口    16\n",
      "34    保定    15\n",
      "44    内江    15\n",
      "1     万宁    14\n",
      "9     东营    14\n",
      "75    商丘    13\n"
     ]
    }
   ],
   "source": [
    "# 确保 '景点评分' 列为浮点数类型\n",
    "all_data['评分'] = pd.to_numeric(all_data['评分'], errors='coerce')\n",
    "\n",
    "# 获取最高评分\n",
    "best_score = all_data['评分'].max()\n",
    "\n",
    "# 统计获得最高评分的景点数量\n",
    "best_score_count = all_data[all_data['评分'] == best_score].shape[0]\n",
    "\n",
    "# 按城市分组，统计每个城市中评分等于最高评分的景点数量\n",
    "best_score_by_city = all_data[all_data['评分'] == best_score].groupby('城市').size().reset_index(name='景点数量')\n",
    "\n",
    "# 按景点数量排序，获取前10个城市\n",
    "top_10_cities = best_score_by_city.sort_values(by='景点数量', ascending=False).head(10)\n",
    "\n",
    "# 打印结果\n",
    "print(f\"最高评分（BS）：{best_score}\")\n",
    "print(f\"获得最高评分（BS）的景点总数：{best_score_count}\")\n",
    "print(\"获得最高评分（BS）景点最多的前10个城市：\")\n",
    "print(top_10_cities)"
   ],
   "metadata": {
    "collapsed": false,
    "pycharm": {
     "name": "#%%\n"
    }
   }
  },
  {
   "cell_type": "code",
   "execution_count": 5,
   "outputs": [],
   "source": [],
   "metadata": {
    "collapsed": false,
    "pycharm": {
     "name": "#%%\n"
    }
   }
  }
 ],
 "metadata": {
  "kernelspec": {
   "display_name": "Python 3",
   "language": "python",
   "name": "python3"
  },
  "language_info": {
   "codemirror_mode": {
    "name": "ipython",
    "version": 2
   },
   "file_extension": ".py",
   "mimetype": "text/x-python",
   "name": "python",
   "nbconvert_exporter": "python",
   "pygments_lexer": "ipython2",
   "version": "2.7.6"
  }
 },
 "nbformat": 4,
 "nbformat_minor": 0
}